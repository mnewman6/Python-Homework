{
 "cells": [
  {
   "cell_type": "code",
   "execution_count": 6,
   "metadata": {},
   "outputs": [
    {
     "name": "stdout",
     "output_type": "stream",
     "text": [
      "..\\..\\CU-NYC-FIN-PT-02-2020-U-C\\02-Homework\\02-Python\\Instructions\\PyBank\\Resources\\budget_data.csv\n",
      "-2315.1176470588234\n",
      "86\n"
     ]
    }
   ],
   "source": [
    "from pathlib import Path\n",
    "import csv\n",
    "csvpath = Path('../../CU-NYC-FIN-PT-02-2020-U-C/02-Homework/02-Python/Instructions/PyBank/Resources/budget_data.csv')\n",
    "print(csvpath)\n",
    "\n",
    "\n",
    "month_total = 0\n",
    "revenue_total = 0\n",
    "revenue = []\n",
    "previous_revenue = 0\n",
    "revenue_change = 0\n",
    "greatest_decrease = [\"\", 9999999]\n",
    "greatest_increase = [\"\", 0]\n",
    "revenue_change_list = []\n",
    "revenue_average = 0\n",
    "Month_average = []\n",
    "\n",
    "with open('../../CU-NYC-FIN-PT-02-2020-U-C/02-Homework/02-Python/Instructions/PyBank/Resources/budget_data.csv') as csvfile:  \n",
    "    csvreader = csv.reader(csvfile)\n",
    "    header = next(csvreader)\n",
    "    inital_month = next(csvreader)\n",
    "    previous_revenue = int(january[1])\n",
    "    month_total = 1\n",
    "    for row in csvreader:\n",
    "        # Total Months\n",
    "        month_total += 1\n",
    "        # Total Revenue\n",
    "        revenue_total = revenue_total + int(row[1])\n",
    "        # Change in Revenue\n",
    "        revenue_change = int(row[1])- previous_revenue\n",
    "        previous_revenue = int(row[1])\n",
    "        revenue_change_list.append(revenue_change)\n",
    "      \n",
    "       # Greatest increase in revenue\n",
    "        if revenue_change>greatest_increase[1]:\n",
    "            greatest_increase[1]= revenue_change\n",
    "            greatest_increase[0] = row[0]\n",
    "       # Greatest decrease in revenue     \n",
    "        if revenue_change<greatest_decrease[1]:\n",
    "            greatest_decrease[1]= revenue_change\n",
    "            greatest_decrease[0] = row[0]\n",
    "average = sum(revenue_change_list) / (month_total - 1)\n",
    "print(average)\n",
    "print(month_total)\n",
    "        \n",
    "\n"
   ]
  },
  {
   "cell_type": "code",
   "execution_count": 8,
   "metadata": {},
   "outputs": [
    {
     "name": "stdout",
     "output_type": "stream",
     "text": [
      "```Text Financial Analysis----------------------------\n",
      "86\n",
      "37514694\n",
      "-2315.1176470588234\n",
      "['Sep-2013', -2196167]\n",
      "['Feb-2012', 1926159]\n"
     ]
    }
   ],
   "source": [
    "output = Path(\"output.csv\")\n",
    "with open(output, 'w') as csvfile:\n",
    "    csvwriter = csv.writer(csvfile, delimiter=',')\n",
    "    print(f'```Text Financial Analysis----------------------------')\n",
    "    print(month_total)\n",
    "    print(revenue_total)\n",
    "    print(average)\n",
    "    print(greatest_decrease)\n",
    "    print(greatest_increase)"
   ]
  },
  {
   "cell_type": "code",
   "execution_count": null,
   "metadata": {},
   "outputs": [],
   "source": []
  },
  {
   "cell_type": "code",
   "execution_count": null,
   "metadata": {},
   "outputs": [],
   "source": []
  }
 ],
 "metadata": {
  "kernelspec": {
   "display_name": "Python 3",
   "language": "python",
   "name": "python3"
  },
  "language_info": {
   "codemirror_mode": {
    "name": "ipython",
    "version": 3
   },
   "file_extension": ".py",
   "mimetype": "text/x-python",
   "name": "python",
   "nbconvert_exporter": "python",
   "pygments_lexer": "ipython3",
   "version": "3.7.6"
  }
 },
 "nbformat": 4,
 "nbformat_minor": 4
}
