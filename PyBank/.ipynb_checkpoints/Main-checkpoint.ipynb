{
 "cells": [
  {
   "cell_type": "code",
   "execution_count": 15,
   "metadata": {},
   "outputs": [
    {
     "name": "stdout",
     "output_type": "stream",
     "text": [
      "..\\..\\CU-NYC-FIN-PT-02-2020-U-C\\02-Homework\\02-Python\\Instructions\\PyBank\\Resources\\budget_data.csv\n"
     ]
    }
   ],
   "source": [
    "from pathlib import Path\n",
    "import csv\n",
    "csvpath = Path('../../CU-NYC-FIN-PT-02-2020-U-C/02-Homework/02-Python/Instructions/PyBank/Resources/budget_data.csv')\n",
    "print(csvpath)\n"
   ]
  },
  {
   "cell_type": "code",
   "execution_count": 21,
   "metadata": {},
   "outputs": [],
   "source": [
    "month_total = 0\n",
    "revenue_total = 0\n",
    "revenue = []\n",
    "previous_revenue = 0\n",
    "revenue_change = 0\n",
    "greatest_decrease = [\"\", 9999999]\n",
    "greatest_increase = [\"\", 0]\n",
    "revenue_change_list = []\n",
    "revenue_average = 0\n",
    "Month_average = []"
   ]
  },
  {
   "cell_type": "code",
   "execution_count": 22,
   "metadata": {},
   "outputs": [],
   "source": [
    "with open('../../CU-NYC-FIN-PT-02-2020-U-C/02-Homework/02-Python/Instructions/PyBank/Resources/budget_data.csv') as csvfile:  \n",
    "    csvreader = csv.DictReader(csvfile)\n",
    "    for row in csvreader:\n",
    "        # Total Months\n",
    "        month_total += 1\n",
    "        # Total Revenue\n",
    "        revenue_total = revenue_total + int(row[\"Profit/Losses\"])\n",
    "        # Change in Revenue\n",
    "        revenue_change = float(row[\"Profit/Losses\"])- previous_revenue\n",
    "        previous_revenue = float(row[\"Profit/Losses\"])\n",
    "        revenue_change_list = revenue_change_list + [revenue_change]\n",
    "        Month_average = [Month_average] + [row[\"Date\"]]\n",
    "        \n",
    "        \n",
    "       # Greatest increase in revenue\n",
    "        if revenue_change>greatest_increase[1]:\n",
    "            greatest_increase[1]= revenue_change\n",
    "            greatest_increase[0] = row['Date']\n",
    "       # Greatest decrease in revenue     \n",
    "        if revenue_change<greatest_decrease[1]:\n",
    "            greatest_decrease[1]= revenue_change\n",
    "            greatest_decrease[0] = row['Date']\n",
    "   \n",
    "        "
   ]
  },
  {
   "cell_type": "code",
   "execution_count": null,
   "metadata": {},
   "outputs": [],
   "source": []
  },
  {
   "cell_type": "code",
   "execution_count": 23,
   "metadata": {},
   "outputs": [
    {
     "name": "stdout",
     "output_type": "stream",
     "text": [
      "```Text Financial Analysis----------------------------\n",
      "86\n",
      "38382578\n",
      "[[[[[[[[[[[[[[[[[[[[[[[[[[[[[[[[[[[[[[[[[[[[[[[[[[[[[[[[[[[[[[[[[[[[[[[[[[[[[[[[[[[[[[[], 'Jan-2010'], 'Feb-2010'], 'Mar-2010'], 'Apr-2010'], 'May-2010'], 'Jun-2010'], 'Jul-2010'], 'Aug-2010'], 'Sep-2010'], 'Oct-2010'], 'Nov-2010'], 'Dec-2010'], 'Jan-2011'], 'Feb-2011'], 'Mar-2011'], 'Apr-2011'], 'May-2011'], 'Jun-2011'], 'Jul-2011'], 'Aug-2011'], 'Sep-2011'], 'Oct-2011'], 'Nov-2011'], 'Dec-2011'], 'Jan-2012'], 'Feb-2012'], 'Mar-2012'], 'Apr-2012'], 'May-2012'], 'Jun-2012'], 'Jul-2012'], 'Aug-2012'], 'Sep-2012'], 'Oct-2012'], 'Nov-2012'], 'Dec-2012'], 'Jan-2013'], 'Feb-2013'], 'Mar-2013'], 'Apr-2013'], 'May-2013'], 'Jun-2013'], 'Jul-2013'], 'Aug-2013'], 'Sep-2013'], 'Oct-2013'], 'Nov-2013'], 'Dec-2013'], 'Jan-2014'], 'Feb-2014'], 'Mar-2014'], 'Apr-2014'], 'May-2014'], 'Jun-2014'], 'Jul-2014'], 'Aug-2014'], 'Sep-2014'], 'Oct-2014'], 'Nov-2014'], 'Dec-2014'], 'Jan-2015'], 'Feb-2015'], 'Mar-2015'], 'Apr-2015'], 'May-2015'], 'Jun-2015'], 'Jul-2015'], 'Aug-2015'], 'Sep-2015'], 'Oct-2015'], 'Nov-2015'], 'Dec-2015'], 'Jan-2016'], 'Feb-2016'], 'Mar-2016'], 'Apr-2016'], 'May-2016'], 'Jun-2016'], 'Jul-2016'], 'Aug-2016'], 'Sep-2016'], 'Oct-2016'], 'Nov-2016'], 'Dec-2016'], 'Jan-2017'], 'Feb-2017']\n",
      "['Sep-2013', -2196167.0]\n",
      "['Feb-2012', 1926159.0]\n"
     ]
    }
   ],
   "source": [
    "output = Path(\"output.csv\")\n",
    "with open(output, 'w') as csvfile:\n",
    "    csvwriter = csv.writer(csvfile, delimiter=',')\n",
    "    print(f'```Text Financial Analysis----------------------------')\n",
    "    print(month_total)\n",
    "    print(revenue_total)\n",
    "    print(Month_average)\n",
    "    print(greatest_decrease)\n",
    "    print(greatest_increase)"
   ]
  },
  {
   "cell_type": "code",
   "execution_count": null,
   "metadata": {},
   "outputs": [],
   "source": []
  },
  {
   "cell_type": "code",
   "execution_count": null,
   "metadata": {},
   "outputs": [],
   "source": []
  }
 ],
 "metadata": {
  "kernelspec": {
   "display_name": "Python 3",
   "language": "python",
   "name": "python3"
  },
  "language_info": {
   "codemirror_mode": {
    "name": "ipython",
    "version": 3
   },
   "file_extension": ".py",
   "mimetype": "text/x-python",
   "name": "python",
   "nbconvert_exporter": "python",
   "pygments_lexer": "ipython3",
   "version": "3.7.6"
  }
 },
 "nbformat": 4,
 "nbformat_minor": 4
}
